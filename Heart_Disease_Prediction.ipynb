{
  "metadata": {
    "kernelspec": {
      "language": "python",
      "display_name": "Python 3",
      "name": "python3"
    },
    "language_info": {
      "name": "python",
      "version": "3.11.11",
      "mimetype": "text/x-python",
      "codemirror_mode": {
        "name": "ipython",
        "version": 3
      },
      "pygments_lexer": "ipython3",
      "nbconvert_exporter": "python",
      "file_extension": ".py"
    },
    "kaggle": {
      "accelerator": "none",
      "dataSources": [
        {
          "sourceType": "datasetVersion",
          "sourceId": 5780739,
          "datasetId": 3309453,
          "databundleVersionId": 5857363
        },
        {
          "sourceType": "datasetVersion",
          "sourceId": 1934358,
          "datasetId": 1153794,
          "databundleVersionId": 1972983
        }
      ],
      "dockerImageVersionId": 31012,
      "isInternetEnabled": true,
      "language": "python",
      "sourceType": "notebook",
      "isGpuEnabled": false
    },
    "colab": {
      "name": "Heart Disease Prediction",
      "provenance": [],
      "include_colab_link": true
    }
  },
  "nbformat_minor": 0,
  "nbformat": 4,
  "cells": [
    {
      "cell_type": "markdown",
      "metadata": {
        "id": "view-in-github",
        "colab_type": "text"
      },
      "source": [
        "<a href=\"https://colab.research.google.com/github/2cdsdc/sanket-machinelearning/blob/main/Heart_Disease_Prediction.ipynb\" target=\"_parent\"><img src=\"https://colab.research.google.com/assets/colab-badge.svg\" alt=\"Open In Colab\"/></a>"
      ]
    },
    {
      "source": [
        "# IMPORTANT: RUN THIS CELL IN ORDER TO IMPORT YOUR KAGGLE DATA SOURCES,\n",
        "# THEN FEEL FREE TO DELETE THIS CELL.\n",
        "# NOTE: THIS NOTEBOOK ENVIRONMENT DIFFERS FROM KAGGLE'S PYTHON\n",
        "# ENVIRONMENT SO THERE MAY BE MISSING LIBRARIES USED BY YOUR\n",
        "# NOTEBOOK.\n",
        "import kagglehub\n",
        "mragpavank_heart_diseaseuci_path = kagglehub.dataset_download('mragpavank/heart-diseaseuci')\n",
        "utkarshx27_heart_disease_diagnosis_dataset_path = kagglehub.dataset_download('utkarshx27/heart-disease-diagnosis-dataset')\n",
        "\n",
        "print('Data source import complete.')\n"
      ],
      "metadata": {
        "id": "R4LAXM_W343V"
      },
      "cell_type": "code",
      "outputs": [],
      "execution_count": null
    },
    {
      "cell_type": "code",
      "source": [
        "# This Python 3 environment comes with many helpful analytics libraries installed\n",
        "# It is defined by the kaggle/python Docker image: https://github.com/kaggle/docker-python\n",
        "# For example, here's several helpful packages to load\n",
        "\n",
        "import numpy as np # linear algebra\n",
        "import pandas as pd # data processing, CSV file I/O (e.g. pd.read_csv)\n",
        "\n",
        "# Input data files are available in the read-only \"../input/\" directory\n",
        "# For example, running this (by clicking run or pressing Shift+Enter) will list all files under the input directory\n",
        "\n",
        "import os\n",
        "for dirname, _, filenames in os.walk('/kaggle/input'):\n",
        "    for filename in filenames:\n",
        "        print(os.path.join(dirname, filename))\n",
        "\n",
        "# You can write up to 20GB to the current directory (/kaggle/working/) that gets preserved as output when you create a version using \"Save & Run All\"\n",
        "# You can also write temporary files to /kaggle/temp/, but they won't be saved outside of the current session"
      ],
      "metadata": {
        "_uuid": "8f2839f25d086af736a60e9eeb907d3b93b6e0e5",
        "_cell_guid": "b1076dfc-b9ad-4769-8c92-a6c4dae69d19",
        "trusted": true,
        "id": "3SXNyU2e343Y"
      },
      "outputs": [],
      "execution_count": null
    },
    {
      "cell_type": "code",
      "source": [
        "import kagglehub\n",
        "\n",
        "# Download latest version\n",
        "path = kagglehub.dataset_download(\"mragpavank/heart-diseaseuci\")\n",
        "\n",
        "print(\"Path to dataset files:\", path)"
      ],
      "metadata": {
        "trusted": true,
        "execution": {
          "iopub.status.busy": "2025-04-25T21:09:58.371461Z",
          "iopub.execute_input": "2025-04-25T21:09:58.372025Z",
          "iopub.status.idle": "2025-04-25T21:10:02.367591Z",
          "shell.execute_reply.started": "2025-04-25T21:09:58.371997Z",
          "shell.execute_reply": "2025-04-25T21:10:02.366494Z"
        },
        "id": "aaWw89ku343a",
        "outputId": "d5928084-68fa-4419-830f-545b970db793"
      },
      "outputs": [
        {
          "name": "stdout",
          "text": "Path to dataset files: /kaggle/input/heart-diseaseuci\n",
          "output_type": "stream"
        }
      ],
      "execution_count": null
    },
    {
      "cell_type": "code",
      "source": [
        "import numpy as np\n",
        "import pandas as pd\n",
        "from  sklearn.model_selection import train_test_split\n",
        "from sklearn import metrics\n",
        "from sklearn.linear_model import LogisticRegression\n",
        "from sklearn.metrics import accuracy_score\n"
      ],
      "metadata": {
        "trusted": true,
        "id": "yuq1zxnp343d"
      },
      "outputs": [],
      "execution_count": null
    },
    {
      "cell_type": "code",
      "source": [
        "data = pd.read_csv('/kaggle/input/heart-diseaseuci/heart.csv')"
      ],
      "metadata": {
        "trusted": true,
        "execution": {
          "iopub.status.busy": "2025-04-25T21:13:18.207477Z",
          "iopub.execute_input": "2025-04-25T21:13:18.207814Z",
          "iopub.status.idle": "2025-04-25T21:13:18.215749Z",
          "shell.execute_reply.started": "2025-04-25T21:13:18.207791Z",
          "shell.execute_reply": "2025-04-25T21:13:18.214718Z"
        },
        "id": "DJPqYp1t343e"
      },
      "outputs": [],
      "execution_count": null
    },
    {
      "cell_type": "code",
      "source": [
        "data.shape"
      ],
      "metadata": {
        "trusted": true,
        "execution": {
          "iopub.status.busy": "2025-04-25T21:13:47.698474Z",
          "iopub.execute_input": "2025-04-25T21:13:47.699086Z",
          "iopub.status.idle": "2025-04-25T21:13:47.705367Z",
          "shell.execute_reply.started": "2025-04-25T21:13:47.699059Z",
          "shell.execute_reply": "2025-04-25T21:13:47.70438Z"
        },
        "id": "rSmQhaO4343e",
        "outputId": "a5844dde-5830-481d-d248-f35378a43ca5"
      },
      "outputs": [
        {
          "execution_count": 11,
          "output_type": "execute_result",
          "data": {
            "text/plain": "(303, 14)"
          },
          "metadata": {}
        }
      ],
      "execution_count": null
    },
    {
      "cell_type": "code",
      "source": [
        "data.head()"
      ],
      "metadata": {
        "trusted": true,
        "execution": {
          "iopub.status.busy": "2025-04-25T21:13:51.267852Z",
          "iopub.execute_input": "2025-04-25T21:13:51.268157Z",
          "iopub.status.idle": "2025-04-25T21:13:51.289153Z",
          "shell.execute_reply.started": "2025-04-25T21:13:51.268136Z",
          "shell.execute_reply": "2025-04-25T21:13:51.288277Z"
        },
        "id": "5aBAstVf343g",
        "outputId": "d8612508-0c2e-4b7a-c267-b7d8b41751c8"
      },
      "outputs": [
        {
          "execution_count": 12,
          "output_type": "execute_result",
          "data": {
            "text/plain": "   age  sex  cp  trestbps  chol  fbs  restecg  thalach  exang  oldpeak  slope  \\\n0   63    1   3       145   233    1        0      150      0      2.3      0   \n1   37    1   2       130   250    0        1      187      0      3.5      0   \n2   41    0   1       130   204    0        0      172      0      1.4      2   \n3   56    1   1       120   236    0        1      178      0      0.8      2   \n4   57    0   0       120   354    0        1      163      1      0.6      2   \n\n   ca  thal  target  \n0   0     1       1  \n1   0     2       1  \n2   0     2       1  \n3   0     2       1  \n4   0     2       1  ",
            "text/html": "<div>\n<style scoped>\n    .dataframe tbody tr th:only-of-type {\n        vertical-align: middle;\n    }\n\n    .dataframe tbody tr th {\n        vertical-align: top;\n    }\n\n    .dataframe thead th {\n        text-align: right;\n    }\n</style>\n<table border=\"1\" class=\"dataframe\">\n  <thead>\n    <tr style=\"text-align: right;\">\n      <th></th>\n      <th>age</th>\n      <th>sex</th>\n      <th>cp</th>\n      <th>trestbps</th>\n      <th>chol</th>\n      <th>fbs</th>\n      <th>restecg</th>\n      <th>thalach</th>\n      <th>exang</th>\n      <th>oldpeak</th>\n      <th>slope</th>\n      <th>ca</th>\n      <th>thal</th>\n      <th>target</th>\n    </tr>\n  </thead>\n  <tbody>\n    <tr>\n      <th>0</th>\n      <td>63</td>\n      <td>1</td>\n      <td>3</td>\n      <td>145</td>\n      <td>233</td>\n      <td>1</td>\n      <td>0</td>\n      <td>150</td>\n      <td>0</td>\n      <td>2.3</td>\n      <td>0</td>\n      <td>0</td>\n      <td>1</td>\n      <td>1</td>\n    </tr>\n    <tr>\n      <th>1</th>\n      <td>37</td>\n      <td>1</td>\n      <td>2</td>\n      <td>130</td>\n      <td>250</td>\n      <td>0</td>\n      <td>1</td>\n      <td>187</td>\n      <td>0</td>\n      <td>3.5</td>\n      <td>0</td>\n      <td>0</td>\n      <td>2</td>\n      <td>1</td>\n    </tr>\n    <tr>\n      <th>2</th>\n      <td>41</td>\n      <td>0</td>\n      <td>1</td>\n      <td>130</td>\n      <td>204</td>\n      <td>0</td>\n      <td>0</td>\n      <td>172</td>\n      <td>0</td>\n      <td>1.4</td>\n      <td>2</td>\n      <td>0</td>\n      <td>2</td>\n      <td>1</td>\n    </tr>\n    <tr>\n      <th>3</th>\n      <td>56</td>\n      <td>1</td>\n      <td>1</td>\n      <td>120</td>\n      <td>236</td>\n      <td>0</td>\n      <td>1</td>\n      <td>178</td>\n      <td>0</td>\n      <td>0.8</td>\n      <td>2</td>\n      <td>0</td>\n      <td>2</td>\n      <td>1</td>\n    </tr>\n    <tr>\n      <th>4</th>\n      <td>57</td>\n      <td>0</td>\n      <td>0</td>\n      <td>120</td>\n      <td>354</td>\n      <td>0</td>\n      <td>1</td>\n      <td>163</td>\n      <td>1</td>\n      <td>0.6</td>\n      <td>2</td>\n      <td>0</td>\n      <td>2</td>\n      <td>1</td>\n    </tr>\n  </tbody>\n</table>\n</div>"
          },
          "metadata": {}
        }
      ],
      "execution_count": null
    },
    {
      "cell_type": "code",
      "source": [
        "data.info()"
      ],
      "metadata": {
        "trusted": true,
        "execution": {
          "iopub.status.busy": "2025-04-25T21:14:06.007566Z",
          "iopub.execute_input": "2025-04-25T21:14:06.007884Z",
          "iopub.status.idle": "2025-04-25T21:14:06.030848Z",
          "shell.execute_reply.started": "2025-04-25T21:14:06.007862Z",
          "shell.execute_reply": "2025-04-25T21:14:06.030072Z"
        },
        "id": "Po1f1tDN343i",
        "outputId": "7f901eb3-f45b-453c-a8c2-d748636fccc4"
      },
      "outputs": [
        {
          "name": "stdout",
          "text": "<class 'pandas.core.frame.DataFrame'>\nRangeIndex: 303 entries, 0 to 302\nData columns (total 14 columns):\n #   Column    Non-Null Count  Dtype  \n---  ------    --------------  -----  \n 0   age       303 non-null    int64  \n 1   sex       303 non-null    int64  \n 2   cp        303 non-null    int64  \n 3   trestbps  303 non-null    int64  \n 4   chol      303 non-null    int64  \n 5   fbs       303 non-null    int64  \n 6   restecg   303 non-null    int64  \n 7   thalach   303 non-null    int64  \n 8   exang     303 non-null    int64  \n 9   oldpeak   303 non-null    float64\n 10  slope     303 non-null    int64  \n 11  ca        303 non-null    int64  \n 12  thal      303 non-null    int64  \n 13  target    303 non-null    int64  \ndtypes: float64(1), int64(13)\nmemory usage: 33.3 KB\n",
          "output_type": "stream"
        }
      ],
      "execution_count": null
    },
    {
      "cell_type": "code",
      "source": [
        "data.isnull().sum()"
      ],
      "metadata": {
        "trusted": true,
        "execution": {
          "iopub.status.busy": "2025-04-25T21:14:19.067884Z",
          "iopub.execute_input": "2025-04-25T21:14:19.068684Z",
          "iopub.status.idle": "2025-04-25T21:14:19.075568Z",
          "shell.execute_reply.started": "2025-04-25T21:14:19.06866Z",
          "shell.execute_reply": "2025-04-25T21:14:19.074653Z"
        },
        "id": "qwLKgkqR343j",
        "outputId": "6f82d5ad-d383-446c-a42d-fbea7a5d02dd"
      },
      "outputs": [
        {
          "execution_count": 14,
          "output_type": "execute_result",
          "data": {
            "text/plain": "age         0\nsex         0\ncp          0\ntrestbps    0\nchol        0\nfbs         0\nrestecg     0\nthalach     0\nexang       0\noldpeak     0\nslope       0\nca          0\nthal        0\ntarget      0\ndtype: int64"
          },
          "metadata": {}
        }
      ],
      "execution_count": null
    },
    {
      "cell_type": "code",
      "source": [
        "data['target'].value_counts()"
      ],
      "metadata": {
        "trusted": true,
        "execution": {
          "iopub.status.busy": "2025-04-25T21:15:51.933263Z",
          "iopub.execute_input": "2025-04-25T21:15:51.933553Z",
          "iopub.status.idle": "2025-04-25T21:15:51.943847Z",
          "shell.execute_reply.started": "2025-04-25T21:15:51.933533Z",
          "shell.execute_reply": "2025-04-25T21:15:51.943037Z"
        },
        "id": "BNg1r--R343n",
        "outputId": "80dc2bf8-19c9-44da-8ba3-f39ec7abc77c"
      },
      "outputs": [
        {
          "execution_count": 15,
          "output_type": "execute_result",
          "data": {
            "text/plain": "target\n1    165\n0    138\nName: count, dtype: int64"
          },
          "metadata": {}
        }
      ],
      "execution_count": null
    },
    {
      "cell_type": "code",
      "source": [
        "x = data.drop(['target'],axis=1)\n",
        "y = data['target']"
      ],
      "metadata": {
        "trusted": true,
        "execution": {
          "iopub.status.busy": "2025-04-25T21:16:55.780748Z",
          "iopub.execute_input": "2025-04-25T21:16:55.781054Z",
          "iopub.status.idle": "2025-04-25T21:16:55.786337Z",
          "shell.execute_reply.started": "2025-04-25T21:16:55.781034Z",
          "shell.execute_reply": "2025-04-25T21:16:55.785526Z"
        },
        "id": "CByvEPOP343o"
      },
      "outputs": [],
      "execution_count": null
    },
    {
      "cell_type": "markdown",
      "source": [
        "splitting the data into train and test"
      ],
      "metadata": {
        "id": "fByW0GSK343p"
      }
    },
    {
      "cell_type": "code",
      "source": [
        "x_train,x_test,y_train,y_test = train_test_split(x,y, test_size = 0.1, stratify = y, random_state = 2)"
      ],
      "metadata": {
        "trusted": true,
        "execution": {
          "iopub.status.busy": "2025-04-25T21:20:46.247778Z",
          "iopub.execute_input": "2025-04-25T21:20:46.248691Z",
          "iopub.status.idle": "2025-04-25T21:20:46.256768Z",
          "shell.execute_reply.started": "2025-04-25T21:20:46.248663Z",
          "shell.execute_reply": "2025-04-25T21:20:46.255859Z"
        },
        "id": "93mPbkVx343r"
      },
      "outputs": [],
      "execution_count": null
    },
    {
      "cell_type": "code",
      "source": [
        "x_train.shape\n"
      ],
      "metadata": {
        "trusted": true,
        "execution": {
          "iopub.status.busy": "2025-04-25T21:20:46.732274Z",
          "iopub.execute_input": "2025-04-25T21:20:46.732797Z",
          "iopub.status.idle": "2025-04-25T21:20:46.738561Z",
          "shell.execute_reply.started": "2025-04-25T21:20:46.732772Z",
          "shell.execute_reply": "2025-04-25T21:20:46.737632Z"
        },
        "id": "_E6CAM-P343s",
        "outputId": "ff0002d3-798b-46f7-9a14-a25a8b9af4aa"
      },
      "outputs": [
        {
          "execution_count": 24,
          "output_type": "execute_result",
          "data": {
            "text/plain": "(272, 13)"
          },
          "metadata": {}
        }
      ],
      "execution_count": null
    },
    {
      "cell_type": "markdown",
      "source": [
        "builing model\n",
        "\n",
        "LogisticRegression"
      ],
      "metadata": {
        "id": "vT3YtDMw343t"
      }
    },
    {
      "cell_type": "code",
      "source": [
        "regression = LogisticRegression()"
      ],
      "metadata": {
        "trusted": true,
        "execution": {
          "iopub.status.busy": "2025-04-25T21:20:47.75618Z",
          "iopub.execute_input": "2025-04-25T21:20:47.756493Z",
          "iopub.status.idle": "2025-04-25T21:20:47.761271Z",
          "shell.execute_reply.started": "2025-04-25T21:20:47.756472Z",
          "shell.execute_reply": "2025-04-25T21:20:47.760061Z"
        },
        "id": "GXFX_HI7343u"
      },
      "outputs": [],
      "execution_count": null
    },
    {
      "cell_type": "code",
      "source": [
        "regression.fit(x_train,y_train)"
      ],
      "metadata": {
        "trusted": true,
        "execution": {
          "iopub.status.busy": "2025-04-25T21:20:48.056912Z",
          "iopub.execute_input": "2025-04-25T21:20:48.057197Z",
          "iopub.status.idle": "2025-04-25T21:20:48.456557Z",
          "shell.execute_reply.started": "2025-04-25T21:20:48.057177Z",
          "shell.execute_reply": "2025-04-25T21:20:48.455749Z"
        },
        "id": "7hi_w1vY343u",
        "outputId": "814f20ff-d315-427e-9b49-1383876380fa"
      },
      "outputs": [
        {
          "name": "stderr",
          "text": "/usr/local/lib/python3.11/dist-packages/sklearn/linear_model/_logistic.py:458: ConvergenceWarning: lbfgs failed to converge (status=1):\nSTOP: TOTAL NO. OF ITERATIONS REACHED LIMIT.\n\nIncrease the number of iterations (max_iter) or scale the data as shown in:\n    https://scikit-learn.org/stable/modules/preprocessing.html\nPlease also refer to the documentation for alternative solver options:\n    https://scikit-learn.org/stable/modules/linear_model.html#logistic-regression\n  n_iter_i = _check_optimize_result(\n",
          "output_type": "stream"
        },
        {
          "execution_count": 26,
          "output_type": "execute_result",
          "data": {
            "text/plain": "LogisticRegression()",
            "text/html": "<style>#sk-container-id-2 {color: black;background-color: white;}#sk-container-id-2 pre{padding: 0;}#sk-container-id-2 div.sk-toggleable {background-color: white;}#sk-container-id-2 label.sk-toggleable__label {cursor: pointer;display: block;width: 100%;margin-bottom: 0;padding: 0.3em;box-sizing: border-box;text-align: center;}#sk-container-id-2 label.sk-toggleable__label-arrow:before {content: \"▸\";float: left;margin-right: 0.25em;color: #696969;}#sk-container-id-2 label.sk-toggleable__label-arrow:hover:before {color: black;}#sk-container-id-2 div.sk-estimator:hover label.sk-toggleable__label-arrow:before {color: black;}#sk-container-id-2 div.sk-toggleable__content {max-height: 0;max-width: 0;overflow: hidden;text-align: left;background-color: #f0f8ff;}#sk-container-id-2 div.sk-toggleable__content pre {margin: 0.2em;color: black;border-radius: 0.25em;background-color: #f0f8ff;}#sk-container-id-2 input.sk-toggleable__control:checked~div.sk-toggleable__content {max-height: 200px;max-width: 100%;overflow: auto;}#sk-container-id-2 input.sk-toggleable__control:checked~label.sk-toggleable__label-arrow:before {content: \"▾\";}#sk-container-id-2 div.sk-estimator input.sk-toggleable__control:checked~label.sk-toggleable__label {background-color: #d4ebff;}#sk-container-id-2 div.sk-label input.sk-toggleable__control:checked~label.sk-toggleable__label {background-color: #d4ebff;}#sk-container-id-2 input.sk-hidden--visually {border: 0;clip: rect(1px 1px 1px 1px);clip: rect(1px, 1px, 1px, 1px);height: 1px;margin: -1px;overflow: hidden;padding: 0;position: absolute;width: 1px;}#sk-container-id-2 div.sk-estimator {font-family: monospace;background-color: #f0f8ff;border: 1px dotted black;border-radius: 0.25em;box-sizing: border-box;margin-bottom: 0.5em;}#sk-container-id-2 div.sk-estimator:hover {background-color: #d4ebff;}#sk-container-id-2 div.sk-parallel-item::after {content: \"\";width: 100%;border-bottom: 1px solid gray;flex-grow: 1;}#sk-container-id-2 div.sk-label:hover label.sk-toggleable__label {background-color: #d4ebff;}#sk-container-id-2 div.sk-serial::before {content: \"\";position: absolute;border-left: 1px solid gray;box-sizing: border-box;top: 0;bottom: 0;left: 50%;z-index: 0;}#sk-container-id-2 div.sk-serial {display: flex;flex-direction: column;align-items: center;background-color: white;padding-right: 0.2em;padding-left: 0.2em;position: relative;}#sk-container-id-2 div.sk-item {position: relative;z-index: 1;}#sk-container-id-2 div.sk-parallel {display: flex;align-items: stretch;justify-content: center;background-color: white;position: relative;}#sk-container-id-2 div.sk-item::before, #sk-container-id-2 div.sk-parallel-item::before {content: \"\";position: absolute;border-left: 1px solid gray;box-sizing: border-box;top: 0;bottom: 0;left: 50%;z-index: -1;}#sk-container-id-2 div.sk-parallel-item {display: flex;flex-direction: column;z-index: 1;position: relative;background-color: white;}#sk-container-id-2 div.sk-parallel-item:first-child::after {align-self: flex-end;width: 50%;}#sk-container-id-2 div.sk-parallel-item:last-child::after {align-self: flex-start;width: 50%;}#sk-container-id-2 div.sk-parallel-item:only-child::after {width: 0;}#sk-container-id-2 div.sk-dashed-wrapped {border: 1px dashed gray;margin: 0 0.4em 0.5em 0.4em;box-sizing: border-box;padding-bottom: 0.4em;background-color: white;}#sk-container-id-2 div.sk-label label {font-family: monospace;font-weight: bold;display: inline-block;line-height: 1.2em;}#sk-container-id-2 div.sk-label-container {text-align: center;}#sk-container-id-2 div.sk-container {/* jupyter's `normalize.less` sets `[hidden] { display: none; }` but bootstrap.min.css set `[hidden] { display: none !important; }` so we also need the `!important` here to be able to override the default hidden behavior on the sphinx rendered scikit-learn.org. See: https://github.com/scikit-learn/scikit-learn/issues/21755 */display: inline-block !important;position: relative;}#sk-container-id-2 div.sk-text-repr-fallback {display: none;}</style><div id=\"sk-container-id-2\" class=\"sk-top-container\"><div class=\"sk-text-repr-fallback\"><pre>LogisticRegression()</pre><b>In a Jupyter environment, please rerun this cell to show the HTML representation or trust the notebook. <br />On GitHub, the HTML representation is unable to render, please try loading this page with nbviewer.org.</b></div><div class=\"sk-container\" hidden><div class=\"sk-item\"><div class=\"sk-estimator sk-toggleable\"><input class=\"sk-toggleable__control sk-hidden--visually\" id=\"sk-estimator-id-2\" type=\"checkbox\" checked><label for=\"sk-estimator-id-2\" class=\"sk-toggleable__label sk-toggleable__label-arrow\">LogisticRegression</label><div class=\"sk-toggleable__content\"><pre>LogisticRegression()</pre></div></div></div></div></div>"
          },
          "metadata": {}
        }
      ],
      "execution_count": null
    },
    {
      "cell_type": "code",
      "source": [
        "predict = regression.predict(x_train)"
      ],
      "metadata": {
        "trusted": true,
        "execution": {
          "iopub.status.busy": "2025-04-25T21:20:48.459669Z",
          "iopub.execute_input": "2025-04-25T21:20:48.463862Z",
          "iopub.status.idle": "2025-04-25T21:20:48.470199Z",
          "shell.execute_reply.started": "2025-04-25T21:20:48.463828Z",
          "shell.execute_reply": "2025-04-25T21:20:48.469334Z"
        },
        "id": "hyCB1jCt343v"
      },
      "outputs": [],
      "execution_count": null
    },
    {
      "cell_type": "code",
      "source": [
        "accuracy = accuracy_score(predict,y_train)\n",
        "print('accuracy of model :', accuracy)"
      ],
      "metadata": {
        "trusted": true,
        "execution": {
          "iopub.status.busy": "2025-04-25T21:22:39.947496Z",
          "iopub.execute_input": "2025-04-25T21:22:39.947827Z",
          "iopub.status.idle": "2025-04-25T21:22:39.954224Z",
          "shell.execute_reply.started": "2025-04-25T21:22:39.947805Z",
          "shell.execute_reply": "2025-04-25T21:22:39.953442Z"
        },
        "id": "qeVrzCRD343v",
        "outputId": "d46aefb6-957c-4c88-eeed-4d1e36502051"
      },
      "outputs": [
        {
          "name": "stdout",
          "text": "accuracy of model : 0.8492647058823529\n",
          "output_type": "stream"
        }
      ],
      "execution_count": null
    },
    {
      "cell_type": "code",
      "source": [
        "test_predict = regression.predict(x_test)\n",
        "accuracy_test = accuracy_score(test_predict,y_test)\n",
        "print('accuracy of model :', accuracy_test)"
      ],
      "metadata": {
        "trusted": true,
        "execution": {
          "iopub.status.busy": "2025-04-25T21:24:50.600715Z",
          "iopub.execute_input": "2025-04-25T21:24:50.601027Z",
          "iopub.status.idle": "2025-04-25T21:24:50.609507Z",
          "shell.execute_reply.started": "2025-04-25T21:24:50.601006Z",
          "shell.execute_reply": "2025-04-25T21:24:50.608648Z"
        },
        "id": "kCgq5ZBS343w",
        "outputId": "183608ef-ba22-4208-ed54-70606094015e"
      },
      "outputs": [
        {
          "name": "stdout",
          "text": "accuracy of model : 0.7741935483870968\n",
          "output_type": "stream"
        }
      ],
      "execution_count": null
    },
    {
      "cell_type": "markdown",
      "source": [
        "BUILDING A PREDICTIVE SYSTEM"
      ],
      "metadata": {
        "id": "Y5pAv5TR343x"
      }
    },
    {
      "cell_type": "code",
      "source": [
        "input_data =(63,1,3,145,233,1,0,150,0,2.3,0,0,1)\n",
        "\n",
        "input_array = np.asarray(input_data)\n",
        "\n",
        "reshape = input_array.reshape(1,-1)\n",
        "\n",
        "prediction = regression.predict(reshape)\n",
        "print(prediction)\n",
        "\n",
        "if (prediction[0]== 0):\n",
        "    print('person does not have heart disease')\n",
        "\n",
        "else:\n",
        "    print('person has heart disease')\n"
      ],
      "metadata": {
        "trusted": true,
        "execution": {
          "iopub.status.busy": "2025-04-25T21:34:03.487202Z",
          "iopub.execute_input": "2025-04-25T21:34:03.487506Z",
          "iopub.status.idle": "2025-04-25T21:34:03.494631Z",
          "shell.execute_reply.started": "2025-04-25T21:34:03.487484Z",
          "shell.execute_reply": "2025-04-25T21:34:03.493666Z"
        },
        "id": "-nR_5ljx343x",
        "outputId": "9d0bc424-b3a3-419d-ccd3-17b9fa5e0bdc"
      },
      "outputs": [
        {
          "name": "stdout",
          "text": "[1]\nperson has heart disease\n",
          "output_type": "stream"
        },
        {
          "name": "stderr",
          "text": "/usr/local/lib/python3.11/dist-packages/sklearn/base.py:439: UserWarning: X does not have valid feature names, but LogisticRegression was fitted with feature names\n  warnings.warn(\n",
          "output_type": "stream"
        }
      ],
      "execution_count": null
    },
    {
      "cell_type": "code",
      "source": [],
      "metadata": {
        "trusted": true,
        "id": "7VzDUpCq343y"
      },
      "outputs": [],
      "execution_count": null
    }
  ]
}