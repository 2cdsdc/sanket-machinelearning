{
  "metadata": {
    "kernelspec": {
      "language": "python",
      "display_name": "Python 3",
      "name": "python3"
    },
    "language_info": {
      "name": "python",
      "version": "3.11.11",
      "mimetype": "text/x-python",
      "codemirror_mode": {
        "name": "ipython",
        "version": 3
      },
      "pygments_lexer": "ipython3",
      "nbconvert_exporter": "python",
      "file_extension": ".py"
    },
    "kaggle": {
      "accelerator": "none",
      "dataSources": [
        {
          "sourceId": 4852390,
          "sourceType": "datasetVersion",
          "datasetId": 33080
        }
      ],
      "dockerImageVersionId": 31012,
      "isInternetEnabled": true,
      "language": "python",
      "sourceType": "notebook",
      "isGpuEnabled": false
    },
    "colab": {
      "name": "Car Price Prediction",
      "provenance": [],
      "include_colab_link": true
    }
  },
  "nbformat_minor": 0,
  "nbformat": 4,
  "cells": [
    {
      "cell_type": "markdown",
      "metadata": {
        "id": "view-in-github",
        "colab_type": "text"
      },
      "source": [
        "<a href=\"https://colab.research.google.com/github/2cdsdc/sanket-machinelearning/blob/main/Car_Price_Prediction.ipynb\" target=\"_parent\"><img src=\"https://colab.research.google.com/assets/colab-badge.svg\" alt=\"Open In Colab\"/></a>"
      ]
    },
    {
      "source": [
        "# IMPORTANT: RUN THIS CELL IN ORDER TO IMPORT YOUR KAGGLE DATA SOURCES,\n",
        "# THEN FEEL FREE TO DELETE THIS CELL.\n",
        "# NOTE: THIS NOTEBOOK ENVIRONMENT DIFFERS FROM KAGGLE'S PYTHON\n",
        "# ENVIRONMENT SO THERE MAY BE MISSING LIBRARIES USED BY YOUR\n",
        "# NOTEBOOK.\n",
        "import kagglehub\n",
        "nehalbirla_vehicle_dataset_from_cardekho_path = kagglehub.dataset_download('nehalbirla/vehicle-dataset-from-cardekho')\n",
        "\n",
        "print('Data source import complete.')\n"
      ],
      "metadata": {
        "id": "9UFge5YSZFXs"
      },
      "cell_type": "code",
      "outputs": [],
      "execution_count": null
    },
    {
      "cell_type": "code",
      "source": [
        "# This Python 3 environment comes with many helpful analytics libraries installed\n",
        "# It is defined by the kaggle/python Docker image: https://github.com/kaggle/docker-python\n",
        "# For example, here's several helpful packages to load\n",
        "\n",
        "import numpy as np # linear algebra\n",
        "import pandas as pd # data processing, CSV file I/O (e.g. pd.read_csv)\n",
        "\n",
        "# Input data files are available in the read-only \"../input/\" directory\n",
        "# For example, running this (by clicking run or pressing Shift+Enter) will list all files under the input directory\n",
        "\n",
        "import os\n",
        "for dirname, _, filenames in os.walk('/kaggle/input'):\n",
        "    for filename in filenames:\n",
        "        print(os.path.join(dirname, filename))\n",
        "\n",
        "# You can write up to 20GB to the current directory (/kaggle/working/) that gets preserved as output when you create a version using \"Save & Run All\"\n",
        "# You can also write temporary files to /kaggle/temp/, but they won't be saved outside of the current session"
      ],
      "metadata": {
        "_uuid": "8f2839f25d086af736a60e9eeb907d3b93b6e0e5",
        "_cell_guid": "b1076dfc-b9ad-4769-8c92-a6c4dae69d19",
        "trusted": true,
        "id": "Xh7f-ubQZFXt"
      },
      "outputs": [],
      "execution_count": null
    },
    {
      "cell_type": "code",
      "source": [
        "import kagglehub\n",
        "\n",
        "# Download latest version\n",
        "path = kagglehub.dataset_download(\"nehalbirla/vehicle-dataset-from-cardekho\")\n",
        "\n",
        "print(\"Path to dataset files:\", path)"
      ],
      "metadata": {
        "trusted": true,
        "execution": {
          "iopub.status.busy": "2025-04-25T19:14:55.337246Z",
          "iopub.execute_input": "2025-04-25T19:14:55.33757Z",
          "iopub.status.idle": "2025-04-25T19:14:55.423393Z",
          "shell.execute_reply.started": "2025-04-25T19:14:55.337549Z",
          "shell.execute_reply": "2025-04-25T19:14:55.422372Z"
        },
        "id": "OH1eoIfLZFXu"
      },
      "outputs": [],
      "execution_count": null
    },
    {
      "cell_type": "code",
      "source": [
        "import pandas as pd\n",
        "import numpy as np\n",
        "from sklearn.model_selection import train_test_split\n",
        "from sklearn.metrics import accuracy_score\n",
        "import seaborn as sns\n",
        "import matplotlib.pyplot as plt\n",
        "from sklearn.linear_model import LinearRegression\n",
        "from sklearn.linear_model import Lasso\n",
        "from sklearn import metrics"
      ],
      "metadata": {
        "trusted": true,
        "execution": {
          "iopub.status.busy": "2025-04-25T19:14:59.722606Z",
          "iopub.execute_input": "2025-04-25T19:14:59.722971Z",
          "iopub.status.idle": "2025-04-25T19:14:59.728721Z",
          "shell.execute_reply.started": "2025-04-25T19:14:59.722949Z",
          "shell.execute_reply": "2025-04-25T19:14:59.72763Z"
        },
        "id": "aWCICP-uZFXv"
      },
      "outputs": [],
      "execution_count": null
    },
    {
      "cell_type": "markdown",
      "source": [
        "Data Collection and Processing"
      ],
      "metadata": {
        "id": "OSVhiiDXZFXw"
      }
    },
    {
      "cell_type": "code",
      "source": [
        "car_dataset = pd.read_csv(\"/kaggle/input/vehicle-dataset-from-cardekho/car data.csv\")"
      ],
      "metadata": {
        "trusted": true,
        "execution": {
          "iopub.status.busy": "2025-04-25T19:15:05.137638Z",
          "iopub.execute_input": "2025-04-25T19:15:05.138014Z",
          "iopub.status.idle": "2025-04-25T19:15:05.149138Z",
          "shell.execute_reply.started": "2025-04-25T19:15:05.13799Z",
          "shell.execute_reply": "2025-04-25T19:15:05.147753Z"
        },
        "id": "Rcdyn9-SZFXx"
      },
      "outputs": [],
      "execution_count": null
    },
    {
      "cell_type": "code",
      "source": [
        "car_dataset.shape"
      ],
      "metadata": {
        "trusted": true,
        "execution": {
          "iopub.status.busy": "2025-04-25T19:15:05.64253Z",
          "iopub.execute_input": "2025-04-25T19:15:05.642977Z",
          "iopub.status.idle": "2025-04-25T19:15:05.650565Z",
          "shell.execute_reply.started": "2025-04-25T19:15:05.642948Z",
          "shell.execute_reply": "2025-04-25T19:15:05.649464Z"
        },
        "id": "jm1s5DIqZFXy"
      },
      "outputs": [],
      "execution_count": null
    },
    {
      "cell_type": "code",
      "source": [
        "car_dataset.head()"
      ],
      "metadata": {
        "trusted": true,
        "execution": {
          "iopub.status.busy": "2025-04-25T19:15:06.22352Z",
          "iopub.execute_input": "2025-04-25T19:15:06.223893Z",
          "iopub.status.idle": "2025-04-25T19:15:06.243839Z",
          "shell.execute_reply.started": "2025-04-25T19:15:06.223863Z",
          "shell.execute_reply": "2025-04-25T19:15:06.242327Z"
        },
        "id": "odf2PGbwZFXz"
      },
      "outputs": [],
      "execution_count": null
    },
    {
      "cell_type": "code",
      "source": [
        "car_dataset.isnull().sum()"
      ],
      "metadata": {
        "trusted": true,
        "execution": {
          "iopub.status.busy": "2025-04-25T19:15:06.791951Z",
          "iopub.execute_input": "2025-04-25T19:15:06.79231Z",
          "iopub.status.idle": "2025-04-25T19:15:06.800863Z",
          "shell.execute_reply.started": "2025-04-25T19:15:06.792287Z",
          "shell.execute_reply": "2025-04-25T19:15:06.799695Z"
        },
        "id": "fVyPlInhZFXz"
      },
      "outputs": [],
      "execution_count": null
    },
    {
      "cell_type": "code",
      "source": [
        "car_dataset.describe()"
      ],
      "metadata": {
        "trusted": true,
        "execution": {
          "iopub.status.busy": "2025-04-25T19:15:07.346579Z",
          "iopub.execute_input": "2025-04-25T19:15:07.346905Z",
          "iopub.status.idle": "2025-04-25T19:15:07.375367Z",
          "shell.execute_reply.started": "2025-04-25T19:15:07.346882Z",
          "shell.execute_reply": "2025-04-25T19:15:07.373947Z"
        },
        "id": "BWBynJtDZFXz"
      },
      "outputs": [],
      "execution_count": null
    },
    {
      "cell_type": "code",
      "source": [
        "car_dataset.info()"
      ],
      "metadata": {
        "trusted": true,
        "execution": {
          "iopub.status.busy": "2025-04-25T19:15:07.807105Z",
          "iopub.execute_input": "2025-04-25T19:15:07.807497Z",
          "iopub.status.idle": "2025-04-25T19:15:07.82193Z",
          "shell.execute_reply.started": "2025-04-25T19:15:07.807472Z",
          "shell.execute_reply": "2025-04-25T19:15:07.82085Z"
        },
        "id": "pUZhDHSaZFX0"
      },
      "outputs": [],
      "execution_count": null
    },
    {
      "cell_type": "code",
      "source": [
        "#checking distribution of catagorical data\n",
        "print(car_dataset.Fuel_Type.value_counts())\n",
        "print(car_dataset.Seller_Type.value_counts())\n",
        "print(car_dataset.Car_Name.value_counts())\n",
        "print(car_dataset.Transmission.value_counts())"
      ],
      "metadata": {
        "trusted": true,
        "execution": {
          "iopub.status.busy": "2025-04-25T19:15:08.079031Z",
          "iopub.execute_input": "2025-04-25T19:15:08.079412Z",
          "iopub.status.idle": "2025-04-25T19:15:08.090367Z",
          "shell.execute_reply.started": "2025-04-25T19:15:08.079387Z",
          "shell.execute_reply": "2025-04-25T19:15:08.089419Z"
        },
        "id": "25ZofLqLZFX0"
      },
      "outputs": [],
      "execution_count": null
    },
    {
      "cell_type": "markdown",
      "source": [
        "encoding the categorical data to numerical values"
      ],
      "metadata": {
        "id": "xUcM9iqkZFX1"
      }
    },
    {
      "cell_type": "code",
      "source": [
        "car_dataset.replace({'Fuel_Type':{'Diesel':1,'Petrol':0,'CNG':2}}, inplace = True)\n",
        "car_dataset.replace({'Seller_Type':{'Dealer':1,'Individual':0}}, inplace = True)\n",
        "car_dataset.replace({'Transmission':{'Manual':1,'Automatic':0}}, inplace = True)"
      ],
      "metadata": {
        "trusted": true,
        "execution": {
          "iopub.status.busy": "2025-04-25T19:15:13.236943Z",
          "iopub.execute_input": "2025-04-25T19:15:13.237273Z",
          "iopub.status.idle": "2025-04-25T19:15:13.248716Z",
          "shell.execute_reply.started": "2025-04-25T19:15:13.237251Z",
          "shell.execute_reply": "2025-04-25T19:15:13.247672Z"
        },
        "id": "jwb9xLzTZFX1"
      },
      "outputs": [],
      "execution_count": null
    },
    {
      "cell_type": "code",
      "source": [
        "car_dataset"
      ],
      "metadata": {
        "trusted": true,
        "execution": {
          "iopub.status.busy": "2025-04-25T19:15:14.00194Z",
          "iopub.execute_input": "2025-04-25T19:15:14.002297Z",
          "iopub.status.idle": "2025-04-25T19:15:14.016806Z",
          "shell.execute_reply.started": "2025-04-25T19:15:14.002272Z",
          "shell.execute_reply": "2025-04-25T19:15:14.015504Z"
        },
        "id": "KreraKG5ZFX1"
      },
      "outputs": [],
      "execution_count": null
    },
    {
      "cell_type": "markdown",
      "source": [
        "Splitting the dataset into train and test"
      ],
      "metadata": {
        "id": "9LWtrPSaZFX1"
      }
    },
    {
      "cell_type": "code",
      "source": [
        "x = car_dataset.drop(['Car_Name','Selling_Price'], axis =1)\n",
        "y = car_dataset['Selling_Price']"
      ],
      "metadata": {
        "trusted": true,
        "execution": {
          "iopub.status.busy": "2025-04-25T19:15:14.926777Z",
          "iopub.execute_input": "2025-04-25T19:15:14.927097Z",
          "iopub.status.idle": "2025-04-25T19:15:14.933394Z",
          "shell.execute_reply.started": "2025-04-25T19:15:14.927073Z",
          "shell.execute_reply": "2025-04-25T19:15:14.932032Z"
        },
        "id": "YMUepL6eZFX1"
      },
      "outputs": [],
      "execution_count": null
    },
    {
      "cell_type": "code",
      "source": [
        "x"
      ],
      "metadata": {
        "trusted": true,
        "execution": {
          "iopub.status.busy": "2025-04-25T19:15:17.697561Z",
          "iopub.execute_input": "2025-04-25T19:15:17.698318Z",
          "iopub.status.idle": "2025-04-25T19:15:17.712121Z",
          "shell.execute_reply.started": "2025-04-25T19:15:17.698278Z",
          "shell.execute_reply": "2025-04-25T19:15:17.710549Z"
        },
        "id": "UJGT7MhPZFX2"
      },
      "outputs": [],
      "execution_count": null
    },
    {
      "cell_type": "code",
      "source": [
        "y"
      ],
      "metadata": {
        "trusted": true,
        "execution": {
          "iopub.status.busy": "2025-04-25T19:15:18.246805Z",
          "iopub.execute_input": "2025-04-25T19:15:18.247142Z",
          "iopub.status.idle": "2025-04-25T19:15:18.256381Z",
          "shell.execute_reply.started": "2025-04-25T19:15:18.24712Z",
          "shell.execute_reply": "2025-04-25T19:15:18.255326Z"
        },
        "id": "jqy-Qqu8ZFX2"
      },
      "outputs": [],
      "execution_count": null
    },
    {
      "cell_type": "code",
      "source": [
        "x_train,x_test,y_train,y_test = train_test_split(x,y, test_size =0.2,  random_state=2)"
      ],
      "metadata": {
        "trusted": true,
        "execution": {
          "iopub.status.busy": "2025-04-25T19:15:21.847781Z",
          "iopub.execute_input": "2025-04-25T19:15:21.848109Z",
          "iopub.status.idle": "2025-04-25T19:15:21.855837Z",
          "shell.execute_reply.started": "2025-04-25T19:15:21.848082Z",
          "shell.execute_reply": "2025-04-25T19:15:21.855008Z"
        },
        "id": "BkVlWEN1ZFX2"
      },
      "outputs": [],
      "execution_count": null
    },
    {
      "cell_type": "code",
      "source": [
        "classifier = LinearRegression()"
      ],
      "metadata": {
        "trusted": true,
        "execution": {
          "iopub.status.busy": "2025-04-25T19:15:22.541558Z",
          "iopub.execute_input": "2025-04-25T19:15:22.542526Z",
          "iopub.status.idle": "2025-04-25T19:15:22.54658Z",
          "shell.execute_reply.started": "2025-04-25T19:15:22.542501Z",
          "shell.execute_reply": "2025-04-25T19:15:22.545519Z"
        },
        "id": "u80rBhD-ZFX2"
      },
      "outputs": [],
      "execution_count": null
    },
    {
      "cell_type": "code",
      "source": [
        "classifier.fit(x_train,y_train)"
      ],
      "metadata": {
        "trusted": true,
        "execution": {
          "iopub.status.busy": "2025-04-25T19:15:23.447349Z",
          "iopub.execute_input": "2025-04-25T19:15:23.447671Z",
          "iopub.status.idle": "2025-04-25T19:15:23.459343Z",
          "shell.execute_reply.started": "2025-04-25T19:15:23.447638Z",
          "shell.execute_reply": "2025-04-25T19:15:23.458334Z"
        },
        "id": "YJgex2mrZFX2"
      },
      "outputs": [],
      "execution_count": null
    },
    {
      "cell_type": "code",
      "source": [
        "x_train['Fuel_Type'].values"
      ],
      "metadata": {
        "trusted": true,
        "execution": {
          "iopub.status.busy": "2025-04-25T19:15:24.171781Z",
          "iopub.execute_input": "2025-04-25T19:15:24.172108Z",
          "iopub.status.idle": "2025-04-25T19:15:24.179223Z",
          "shell.execute_reply.started": "2025-04-25T19:15:24.172085Z",
          "shell.execute_reply": "2025-04-25T19:15:24.178431Z"
        },
        "id": "4HiSfPNwZFX2"
      },
      "outputs": [],
      "execution_count": null
    },
    {
      "cell_type": "code",
      "source": [
        "y_train\n"
      ],
      "metadata": {
        "trusted": true,
        "execution": {
          "iopub.status.busy": "2025-04-25T19:15:24.992523Z",
          "iopub.execute_input": "2025-04-25T19:15:24.992876Z",
          "iopub.status.idle": "2025-04-25T19:15:25.001672Z",
          "shell.execute_reply.started": "2025-04-25T19:15:24.992849Z",
          "shell.execute_reply": "2025-04-25T19:15:25.000683Z"
        },
        "id": "eGWaKm0YZFX2"
      },
      "outputs": [],
      "execution_count": null
    },
    {
      "cell_type": "markdown",
      "source": [
        "Model Evaluation"
      ],
      "metadata": {
        "id": "KtTKkWZpZFX3"
      }
    },
    {
      "cell_type": "code",
      "source": [
        "#prediction on training data\n",
        "prediction = classifier.predict(x_train)"
      ],
      "metadata": {
        "trusted": true,
        "execution": {
          "iopub.status.busy": "2025-04-25T19:15:28.872579Z",
          "iopub.execute_input": "2025-04-25T19:15:28.872918Z",
          "iopub.status.idle": "2025-04-25T19:15:28.880655Z",
          "shell.execute_reply.started": "2025-04-25T19:15:28.872894Z",
          "shell.execute_reply": "2025-04-25T19:15:28.879229Z"
        },
        "id": "Cg8TPe0DZFX3"
      },
      "outputs": [],
      "execution_count": null
    },
    {
      "cell_type": "code",
      "source": [
        "# R squared error\n",
        "error_score = metrics.r2_score(y_train, prediction)\n",
        "print(' error is :', error_score)"
      ],
      "metadata": {
        "trusted": true,
        "execution": {
          "iopub.status.busy": "2025-04-25T19:15:29.291979Z",
          "iopub.execute_input": "2025-04-25T19:15:29.292322Z",
          "iopub.status.idle": "2025-04-25T19:15:29.299105Z",
          "shell.execute_reply.started": "2025-04-25T19:15:29.292298Z",
          "shell.execute_reply": "2025-04-25T19:15:29.298047Z"
        },
        "id": "y82sBLzFZFX3"
      },
      "outputs": [],
      "execution_count": null
    },
    {
      "cell_type": "markdown",
      "source": [
        "visualizing the actual data and pridicted data"
      ],
      "metadata": {
        "id": "3fF9hgk8ZFX3"
      }
    },
    {
      "cell_type": "code",
      "source": [
        "plt.scatter(y_train, prediction)\n",
        "plt.xlabel('Actual Price')\n",
        "plt.ylabel('predicted price')\n",
        "plt.title('actual price vs pridicted price')\n",
        "plt.show()"
      ],
      "metadata": {
        "trusted": true,
        "execution": {
          "iopub.status.busy": "2025-04-25T19:15:30.666807Z",
          "iopub.execute_input": "2025-04-25T19:15:30.667114Z",
          "iopub.status.idle": "2025-04-25T19:15:30.867023Z",
          "shell.execute_reply.started": "2025-04-25T19:15:30.667093Z",
          "shell.execute_reply": "2025-04-25T19:15:30.865977Z"
        },
        "id": "iUXN_PP1ZFX3"
      },
      "outputs": [],
      "execution_count": null
    },
    {
      "cell_type": "code",
      "source": [
        "plt.scatter(y_train, prediction)\n",
        "plt.xlabel('Actual Price')\n",
        "plt.ylabel('predicted price')\n",
        "plt.title('actual price vs pridicted price')\n",
        "plt.show()"
      ],
      "metadata": {
        "trusted": true,
        "execution": {
          "iopub.status.busy": "2025-04-25T19:15:31.188212Z",
          "iopub.execute_input": "2025-04-25T19:15:31.188682Z",
          "iopub.status.idle": "2025-04-25T19:15:31.400196Z",
          "shell.execute_reply.started": "2025-04-25T19:15:31.188658Z",
          "shell.execute_reply": "2025-04-25T19:15:31.398949Z"
        },
        "id": "H-bUiO2jZFX3"
      },
      "outputs": [],
      "execution_count": null
    },
    {
      "cell_type": "code",
      "source": [
        "#prediction on test data\n",
        "prediction = classifier.predict(x_test)"
      ],
      "metadata": {
        "trusted": true,
        "execution": {
          "iopub.status.busy": "2025-04-25T19:15:35.33688Z",
          "iopub.execute_input": "2025-04-25T19:15:35.337186Z",
          "iopub.status.idle": "2025-04-25T19:15:35.343366Z",
          "shell.execute_reply.started": "2025-04-25T19:15:35.337144Z",
          "shell.execute_reply": "2025-04-25T19:15:35.342518Z"
        },
        "id": "C-Qeds64ZFX3"
      },
      "outputs": [],
      "execution_count": null
    },
    {
      "cell_type": "code",
      "source": [
        "# R squared error\n",
        "error_score = metrics.r2_score(y_test, prediction)\n",
        "print(' error is :', error_score)"
      ],
      "metadata": {
        "trusted": true,
        "execution": {
          "iopub.status.busy": "2025-04-25T19:15:36.096976Z",
          "iopub.execute_input": "2025-04-25T19:15:36.097333Z",
          "iopub.status.idle": "2025-04-25T19:15:36.104086Z",
          "shell.execute_reply.started": "2025-04-25T19:15:36.09731Z",
          "shell.execute_reply": "2025-04-25T19:15:36.10298Z"
        },
        "id": "QAv4bgd9ZFX3"
      },
      "outputs": [],
      "execution_count": null
    },
    {
      "cell_type": "code",
      "source": [
        "plt.scatter(y_test, prediction)\n",
        "plt.xlabel('Actual Price')\n",
        "plt.ylabel('predicted price')\n",
        "plt.title('actual price vs pridicted price')\n",
        "plt.show()"
      ],
      "metadata": {
        "trusted": true,
        "execution": {
          "iopub.status.busy": "2025-04-25T19:15:37.632145Z",
          "iopub.execute_input": "2025-04-25T19:15:37.632494Z",
          "iopub.status.idle": "2025-04-25T19:15:37.849671Z",
          "shell.execute_reply.started": "2025-04-25T19:15:37.63247Z",
          "shell.execute_reply": "2025-04-25T19:15:37.848517Z"
        },
        "id": "LLVprYlEZFX3"
      },
      "outputs": [],
      "execution_count": null
    },
    {
      "cell_type": "markdown",
      "source": [
        "Lasso"
      ],
      "metadata": {
        "id": "VrBmm97xZFX3"
      }
    },
    {
      "cell_type": "code",
      "source": [
        "classifier_lass = Lasso()\n"
      ],
      "metadata": {
        "trusted": true,
        "execution": {
          "iopub.status.busy": "2025-04-25T19:15:58.748307Z",
          "iopub.execute_input": "2025-04-25T19:15:58.748637Z",
          "iopub.status.idle": "2025-04-25T19:15:58.753431Z",
          "shell.execute_reply.started": "2025-04-25T19:15:58.748616Z",
          "shell.execute_reply": "2025-04-25T19:15:58.752227Z"
        },
        "id": "flgfe6esZFX3"
      },
      "outputs": [],
      "execution_count": null
    },
    {
      "cell_type": "code",
      "source": [
        "#prediction on training data\n",
        "classifier_lass.fit(x_train,y_train)\n",
        "lass_prediction = classifier_lass.predict(x_train)"
      ],
      "metadata": {
        "trusted": true,
        "execution": {
          "iopub.status.busy": "2025-04-25T19:17:14.987891Z",
          "iopub.execute_input": "2025-04-25T19:17:14.98822Z",
          "iopub.status.idle": "2025-04-25T19:17:15.002405Z",
          "shell.execute_reply.started": "2025-04-25T19:17:14.988198Z",
          "shell.execute_reply": "2025-04-25T19:17:15.001473Z"
        },
        "id": "fpEejd0jZFX4"
      },
      "outputs": [],
      "execution_count": null
    },
    {
      "cell_type": "code",
      "source": [
        "# R squared error\n",
        "error_score = metrics.r2_score(y_train, lass_prediction)\n",
        "print(' error is :', error_score)"
      ],
      "metadata": {
        "trusted": true,
        "execution": {
          "iopub.status.busy": "2025-04-25T19:17:17.602903Z",
          "iopub.execute_input": "2025-04-25T19:17:17.60325Z",
          "iopub.status.idle": "2025-04-25T19:17:17.610203Z",
          "shell.execute_reply.started": "2025-04-25T19:17:17.603227Z",
          "shell.execute_reply": "2025-04-25T19:17:17.608994Z"
        },
        "id": "9iv3Z6Q-ZFX4"
      },
      "outputs": [],
      "execution_count": null
    },
    {
      "cell_type": "code",
      "source": [
        "plt.scatter(y_train, lass_prediction)\n",
        "plt.xlabel('Actual Price')\n",
        "plt.ylabel('predicted price')\n",
        "plt.title('actual price vs pridicted price')\n",
        "plt.show()"
      ],
      "metadata": {
        "trusted": true,
        "execution": {
          "iopub.status.busy": "2025-04-25T19:17:18.797479Z",
          "iopub.execute_input": "2025-04-25T19:17:18.79777Z",
          "iopub.status.idle": "2025-04-25T19:17:18.982104Z",
          "shell.execute_reply.started": "2025-04-25T19:17:18.79775Z",
          "shell.execute_reply": "2025-04-25T19:17:18.981017Z"
        },
        "id": "ooMtjvB1ZFX4"
      },
      "outputs": [],
      "execution_count": null
    },
    {
      "cell_type": "code",
      "source": [
        "#prediction on test data\n",
        "test_prediction = classifier_lass.predict(x_test)"
      ],
      "metadata": {
        "trusted": true,
        "execution": {
          "iopub.status.busy": "2025-04-25T19:17:21.623417Z",
          "iopub.execute_input": "2025-04-25T19:17:21.623742Z",
          "iopub.status.idle": "2025-04-25T19:17:21.63003Z",
          "shell.execute_reply.started": "2025-04-25T19:17:21.623718Z",
          "shell.execute_reply": "2025-04-25T19:17:21.629215Z"
        },
        "id": "E56mEEQZZFX4"
      },
      "outputs": [],
      "execution_count": null
    },
    {
      "cell_type": "code",
      "source": [
        "# R squared error\n",
        "error_score = metrics.r2_score(y_test, test_prediction)\n",
        "print(' error is :', error_score)"
      ],
      "metadata": {
        "trusted": true,
        "execution": {
          "iopub.status.busy": "2025-04-25T19:17:22.968855Z",
          "iopub.execute_input": "2025-04-25T19:17:22.96916Z",
          "iopub.status.idle": "2025-04-25T19:17:22.97559Z",
          "shell.execute_reply.started": "2025-04-25T19:17:22.969138Z",
          "shell.execute_reply": "2025-04-25T19:17:22.974707Z"
        },
        "id": "Vq84JV1PZFYE"
      },
      "outputs": [],
      "execution_count": null
    },
    {
      "cell_type": "code",
      "source": [
        "plt.scatter(y_test, test_prediction)\n",
        "plt.xlabel('Actual Price')\n",
        "plt.ylabel('predicted price')\n",
        "plt.title('actual price vs pridicted price')\n",
        "plt.show()"
      ],
      "metadata": {
        "trusted": true,
        "execution": {
          "iopub.status.busy": "2025-04-25T19:17:24.103371Z",
          "iopub.execute_input": "2025-04-25T19:17:24.103746Z",
          "iopub.status.idle": "2025-04-25T19:17:24.295949Z",
          "shell.execute_reply.started": "2025-04-25T19:17:24.10372Z",
          "shell.execute_reply": "2025-04-25T19:17:24.294987Z"
        },
        "id": "CJc0hHn5ZFYE"
      },
      "outputs": [],
      "execution_count": null
    },
    {
      "cell_type": "code",
      "source": [],
      "metadata": {
        "trusted": true,
        "id": "IumfxGboZFYE"
      },
      "outputs": [],
      "execution_count": null
    }
  ]
}